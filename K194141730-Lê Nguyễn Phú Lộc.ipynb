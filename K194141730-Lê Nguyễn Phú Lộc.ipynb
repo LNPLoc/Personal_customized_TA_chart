{
 "cells": [
  {
   "cell_type": "code",
   "execution_count": null,
   "metadata": {},
   "outputs": [],
   "source": [
    "# pip install git+https://github.com/vuthanhdatt/vnstock-data-python.git\n",
    "# pip install python-binance\n",
    "# pip install pandas_ta\n",
    "# pip install plotly==5.5.0\n",
    "# pip install yfinance"
   ]
  },
  {
   "cell_type": "code",
   "execution_count": null,
   "metadata": {},
   "outputs": [],
   "source": [
    "apikey = 'rz1iJcFceAwjl1CpFbM3axkx0fRDb6vhFQ2xZkqma2xCRysgKpH6v8qkRlMJX9R0'\n",
    "secret = 'AMI2gLDPCSe84a9AIN2M9eD3rXkvgwvAOgSANBRG8Zd9HEWtr2Hknfyw4XArrhbZ'"
   ]
  },
  {
   "cell_type": "code",
   "execution_count": null,
   "metadata": {},
   "outputs": [],
   "source": [
    "from binance import Client, ThreadedWebsocketManager, ThreadedDepthCacheManager\n",
    "import pandas as pd\n",
    "import pandas_ta as ta\n",
    "import plotly.graph_objects as go\n",
    "from plotly.subplots import make_subplots\n",
    "import yfinance as yf\n",
    "from datetime import date as dt"
   ]
  },
  {
   "cell_type": "code",
   "execution_count": null,
   "metadata": {},
   "outputs": [],
   "source": [
    "from vnstock_data.all_exchange import VnStock\n",
    "COOKIES={\"vts_usr_lg\":\"ABCDEF\",\"language\": \"en-US\",\"__RequestVerificationToken\":\"GhijKL\"}\n",
    "vndata = VnStock(COOKIES)"
   ]
  },
  {
   "cell_type": "code",
   "execution_count": null,
   "metadata": {},
   "outputs": [],
   "source": [
    "client = Client(apikey, secret)\n",
    "tickers= client.get_all_tickers()\n",
    "ticker_df= pd.DataFrame(tickers)\n",
    "ticker_df.set_index('symbol',inplace=True)"
   ]
  },
  {
   "cell_type": "markdown",
   "metadata": {},
   "source": [
    "# Getting Data Function"
   ]
  },
  {
   "cell_type": "code",
   "execution_count": null,
   "metadata": {},
   "outputs": [],
   "source": [
    "def get_crypto_data(symbol, interval, starttime):\n",
    "    df = pd.DataFrame(client.get_historical_klines(symbol, interval, starttime))\n",
    "    df.columns = ['Open Time','Open','High','Low','Close','Volume','Close Time','Quote Asset Volume','Number of Trades','TB Base Volume','TB Quote Volume','Ignore']\n",
    "    df['Open Time'] = pd.to_datetime(df['Open Time']/1000, unit='s')\n",
    "    df['Close Time'] = pd.to_datetime(df['Close Time']/1000, unit='s')\n",
    "    numeric_columns= ['Open','High','Low','Close','Volume','Quote Asset Volume','TB Base Volume','TB Quote Volume']\n",
    "    df[numeric_columns] = df[numeric_columns].apply(pd.to_numeric, axis=1)\n",
    "    df= df[['Close Time','Open','High','Low','Close','Volume']]\n",
    "    df['Diff']= df['Close'] - df['Open']\n",
    "    df.loc[df['Diff'] >= 0, 'Color'] = 'gray'\n",
    "    df.loc[df['Diff'] <= 0, 'Color'] = 'red'\n",
    "    return df"
   ]
  },
  {
   "cell_type": "code",
   "execution_count": null,
   "metadata": {},
   "outputs": [],
   "source": [
    "def get_stock_data(symbol, interval, starttime):\n",
    "    df=pd.DataFrame(yf.download(symbol,interval=interval,start=starttime,progress=False,auto_adjust=True)).dropna()\n",
    "    df['Diff']= df['Close'] - df['Open']\n",
    "    df.loc[df['Diff'] >= 0, 'Color'] = 'gray'\n",
    "    df.loc[df['Diff'] <= 0, 'Color'] = 'red'\n",
    "    return df"
   ]
  },
  {
   "cell_type": "code",
   "execution_count": null,
   "metadata": {},
   "outputs": [],
   "source": [
    "def get_vnstock_data(symbol, starttime, interval):\n",
    "    df= vndata.price(symbol, starttime, dt.today()).dropna()\n",
    "    df= df.reindex(index=df.index[::-1])\n",
    "    if interval == '1W':\n",
    "        df= df.resample('1W').mean()\n",
    "    elif interval == '1M':\n",
    "        df= df.resample('1M').mean()\n",
    "    df['Adj Open']= (df['Open']*df['Adj Close'])/df['Close']\n",
    "    df['Adj High']= (df['High']*df['Adj Close'])/df['Close']\n",
    "    df['Adj Low']= (df['Low']*df['Adj Close'])/df['Close']\n",
    "    df['Diff']= df['Close'] - df['Open']\n",
    "    df.loc[df['Diff'] >= 0, 'Color'] = 'gray'\n",
    "    df.loc[df['Diff'] <= 0, 'Color'] = 'red'\n",
    "    return df"
   ]
  },
  {
   "cell_type": "markdown",
   "metadata": {},
   "source": [
    "# Calculating Indicator Function"
   ]
  },
  {
   "cell_type": "code",
   "execution_count": null,
   "metadata": {},
   "outputs": [],
   "source": [
    "def get_crypto_indi(symbol, interval, starttime):\n",
    "    df= get_crypto_data(symbol, interval, starttime)\n",
    "    sma9 = ta.sma(df[\"Close\"], length=9)\n",
    "    sma20 = ta.sma(df[\"Close\"], length=20)\n",
    "    sma50 = ta.sma(df[\"Close\"], length=50)\n",
    "    sma200 = ta.sma(df[\"Close\"], length=200)\n",
    "    spt= ta.supertrend(high=df['High'],low=df['Low'],close=df['Close'],period=10,multiplier=3)\n",
    "    macd= ta.macd(df[\"Close\"], length=9)\n",
    "    macd.loc[macd['MACDh_12_26_9'] >= 0, 'Color'] = 'gray'\n",
    "    macd.loc[macd['MACDh_12_26_9'] <= 0, 'Color'] = 'red'\n",
    "    return sma9,sma20,sma50,sma200,spt,macd"
   ]
  },
  {
   "cell_type": "code",
   "execution_count": null,
   "metadata": {},
   "outputs": [],
   "source": [
    "def get_stock_indi(symbol, interval, starttime):\n",
    "    df= get_stock_data(symbol, interval, starttime)\n",
    "    sma9 = ta.sma(df[\"Close\"], length=9)\n",
    "    sma20 = ta.sma(df[\"Close\"], length=20)\n",
    "    sma50 = ta.sma(df[\"Close\"], length=50)\n",
    "    sma200 = ta.sma(df[\"Close\"], length=200)\n",
    "    spt= ta.supertrend(high=df['High'],low=df['Low'],close=df['Close'],period=10,multiplier=3)\n",
    "    macd= ta.macd(df[\"Close\"], length=9)\n",
    "    macd.loc[macd['MACDh_12_26_9'] >= 0, 'Color'] = 'gray'\n",
    "    macd.loc[macd['MACDh_12_26_9'] <= 0, 'Color'] = 'red'\n",
    "    return sma9,sma20,sma50,sma200,spt,macd"
   ]
  },
  {
   "cell_type": "code",
   "execution_count": null,
   "metadata": {},
   "outputs": [],
   "source": [
    "def get_vnstock_indi(symbol, starttime, interval):\n",
    "    df= get_vnstock_data(symbol, starttime, interval)\n",
    "    sma9 = ta.sma(df[\"Adj Close\"], length=9)\n",
    "    sma20 = ta.sma(df[\"Adj Close\"], length=20)\n",
    "    sma50 = ta.sma(df[\"Adj Close\"], length=50)\n",
    "    sma200 = ta.sma(df[\"Adj Close\"], length=200)\n",
    "    spt= ta.supertrend(high=df['Adj High'],low=df['Adj Low'],close=df['Adj Close'],period=10,multiplier=3)\n",
    "    macd= ta.macd(df[\"Adj Close\"], length=9)\n",
    "    macd.loc[macd['MACDh_12_26_9'] >= 0, 'Color'] = 'gray'\n",
    "    macd.loc[macd['MACDh_12_26_9'] <= 0, 'Color'] = 'red'\n",
    "    return sma9,sma20,sma50,sma200,spt,macd"
   ]
  },
  {
   "cell_type": "markdown",
   "metadata": {},
   "source": [
    "# Plot Chart Function"
   ]
  },
  {
   "cell_type": "code",
   "execution_count": null,
   "metadata": {},
   "outputs": [],
   "source": [
    "def plot_crypto_chart(symbol, interval, starttime):\n",
    "    df=get_crypto_data(symbol,interval,starttime)\n",
    "    # Plot candlesticks chart\n",
    "    df_C = make_subplots(rows=3, cols=1, shared_xaxes=True, vertical_spacing=0.03,row_width=[0.7,0.2,0.7],subplot_titles=(symbol + ' '+ interval + ' with SMA, SuperTrend', 'Volume',symbol + ' ' + interval +' with MACD'))\n",
    "    df_C.add_trace(go.Candlestick(x = df['Close Time'], open= df['Open'], high= df['High'], low= df['Low'], close= df['Close']),row = 1, col = 1)\n",
    "    df_C.add_trace(go.Bar(x = df['Close Time'], y= df['Volume'],showlegend=False,marker={'color':df['Color']}),row = 2, col = 1)\n",
    "\n",
    "    # Adding SMA\n",
    "    df_C.add_trace(go.Scatter(x=df['Close Time'], y= get_crypto_indi(symbol, interval, starttime)[0], line = dict(color= '#ffffff'), name= 'SMA9'),row=1, col=1)\n",
    "    df_C.add_trace(go.Scatter(x=df['Close Time'], y= get_crypto_indi(symbol, interval, starttime)[1], line = dict(color= '#fff176'), name= 'SMA20'),row=1, col=1)\n",
    "    df_C.add_trace(go.Scatter(x=df['Close Time'], y= get_crypto_indi(symbol, interval, starttime)[2], line = dict(color= '#fbc02d'), name= 'SMA50'),row=1, col=1)\n",
    "    df_C.add_trace(go.Scatter(x=df['Close Time'], y= get_crypto_indi(symbol, interval, starttime)[3], line = dict(color= '#f57f17'), name= 'SMA200'),row=1, col=1)\n",
    "    \n",
    "    # Adding Super Trend\n",
    "    df_C.add_trace(go.Scatter(x=df['Close Time'], y= get_crypto_indi(symbol, interval, starttime)[4]['SUPERTs_7_3.0'], line = dict(color= '#f34f50'), name= 'Sell Super Trend'),row=1, col=1)\n",
    "    df_C.add_trace(go.Scatter(x=df['Close Time'], y= get_crypto_indi(symbol, interval, starttime)[4]['SUPERTl_7_3.0'], line = dict(color= '#4caf50'), name= 'Buy Super Trend'),row=1, col=1)\n",
    "    \n",
    "    #MACD\n",
    "    df_C.add_trace(go.Scatter(x=df['Close Time'], y= get_crypto_indi(symbol, interval, starttime)[5]['MACD_12_26_9'], line = dict(color= '#1f77b4'), name= 'MACD'),row=3, col=1)\n",
    "    df_C.add_trace(go.Bar(x = df['Close Time'], y= get_crypto_indi(symbol, interval, starttime)[5]['MACDh_12_26_9'],showlegend=False,marker={'color':get_crypto_indi(symbol, interval, starttime)[5]['Color']}),row = 3, col = 1)\n",
    "    df_C.add_trace(go.Scatter(x=df['Close Time'], y= get_crypto_indi(symbol, interval, starttime)[5]['MACDs_12_26_9'], line = dict(color= '#d62728'), name= 'MACD Signal'),row=3, col=1)\n",
    "\n",
    "    # Update layout\n",
    "    for i in range(3,0,-1):\n",
    "        df_C.update_xaxes(row=i, col=1, rangeslider_visible=False)         # Remove Range Slider\n",
    "    df_C.update_layout(template='plotly_dark')\n",
    "    df_C.update_layout(bargap=0.2)\n",
    "    df_C.update_layout(height=1000, width=1500)\n",
    "    df_C.update_traces(name='Price', selector=dict(type='candlestick'))\n",
    "    return df_C.show()"
   ]
  },
  {
   "cell_type": "code",
   "execution_count": null,
   "metadata": {},
   "outputs": [],
   "source": [
    "def plot_stock_chart(symbol, interval, starttime):\n",
    "    df = get_stock_data(symbol,interval,starttime)\n",
    "    # Plot candlesticks chart\n",
    "    df_C = make_subplots(rows=3, cols=1, shared_xaxes=True, vertical_spacing=0.03,row_width=[0.7,0.2,0.7],subplot_titles=(symbol + ' '+ interval + ' with SMA, SuperTrend', 'Volume',symbol + ' ' + interval +' with MACD'))\n",
    "    df_C.add_trace(go.Candlestick(x = df.index, open= df['Open'], high= df['High'], low= df['Low'], close= df['Close']),row = 1, col = 1)\n",
    "    df_C.add_trace(go.Bar(x = df.index, y= df['Volume'],showlegend=False,marker={'color':df['Color']}),row = 2, col = 1)\n",
    "\n",
    "    # Adding SMA\n",
    "    df_C.add_trace(go.Scatter(x=df.index, y= get_stock_indi(symbol, interval, starttime)[0], line = dict(color= '#ffffff'), name= 'SMA9'),row=1, col=1)\n",
    "    df_C.add_trace(go.Scatter(x=df.index, y= get_stock_indi(symbol, interval, starttime)[1], line = dict(color= '#fff176'), name= 'SMA20'),row=1, col=1)\n",
    "    df_C.add_trace(go.Scatter(x=df.index, y= get_stock_indi(symbol, interval, starttime)[2], line = dict(color= '#fbc02d'), name= 'SMA50'),row=1, col=1)\n",
    "    df_C.add_trace(go.Scatter(x=df.index, y= get_stock_indi(symbol, interval, starttime)[3], line = dict(color= '#f57f17'), name= 'SMA200'),row=1, col=1)\n",
    "    \n",
    "    # Adding Super Trend\n",
    "    df_C.add_trace(go.Scatter(x=df.index, y= get_stock_indi(symbol, interval, starttime)[4]['SUPERTs_7_3.0'], line = dict(color= '#f34f50'), name= 'Sell Super Trend'),row=1, col=1)\n",
    "    df_C.add_trace(go.Scatter(x=df.index, y= get_stock_indi(symbol, interval, starttime)[4]['SUPERTl_7_3.0'], line = dict(color= '#4caf50'), name= 'Buy Super Trend'),row=1, col=1)\n",
    "    \n",
    "    #MACD\n",
    "    df_C.add_trace(go.Scatter(x=df.index, y= get_stock_indi(symbol, interval, starttime)[5]['MACD_12_26_9'], line = dict(color= '#1f77b4'), name= 'MACD'),row=3, col=1)\n",
    "    df_C.add_trace(go.Bar(x = df.index, y= get_stock_indi(symbol, interval, starttime)[5]['MACDh_12_26_9'],showlegend=False,marker={'color':get_stock_indi(symbol, interval, starttime)[5]['Color']}),row = 3, col = 1)\n",
    "    df_C.add_trace(go.Scatter(x=df.index, y= get_stock_indi(symbol, interval, starttime)[5]['MACDs_12_26_9'], line = dict(color= '#d62728'), name= 'MACD Signal'),row=3, col=1)\n",
    "\n",
    "    # Update layout\n",
    "    for i in range(3,0,-1):\n",
    "        df_C.update_xaxes(row=i, col=1, rangeslider_visible=False)         # Remove Range Slider\n",
    "    df_C.update_layout(template='plotly_dark')\n",
    "    df_C.update_layout(height=1000, width=1500)\n",
    "    df_C.update_traces(name='Price', selector=dict(type='candlestick'))\n",
    "    return df_C.show()"
   ]
  },
  {
   "cell_type": "code",
   "execution_count": null,
   "metadata": {},
   "outputs": [],
   "source": [
    "def plot_vnstock_chart(symbol, starttime, interval):\n",
    "    df = get_vnstock_data(symbol,starttime, interval)\n",
    "    # Plot candlesticks chart\n",
    "    df_C = make_subplots(rows=3, cols=1, shared_xaxes=True, vertical_spacing=0.03,row_width=[0.7,0.2,0.7],subplot_titles=(symbol+ ' ' + interval + ' with SMA, SuperTrend', 'Volume', symbol + ' ' + interval +' with MACD'))\n",
    "    df_C.add_trace(go.Candlestick(x = df.index, open= df['Adj Open'], high= df['Adj High'], low= df['Adj Low'], close= df['Adj Close']),row = 1, col = 1)\n",
    "    df_C.add_trace(go.Bar(x = df.index, y= df['Volume'],showlegend=False,marker={'color':df['Color']}),row = 2, col = 1)\n",
    "\n",
    "    # Adding SMA\n",
    "    df_C.add_trace(go.Scatter(x=df.index, y= get_vnstock_indi(symbol, starttime, interval)[0], line = dict(color= '#ffffff'), name= 'SMA9'),row=1, col=1)\n",
    "    df_C.add_trace(go.Scatter(x=df.index, y= get_vnstock_indi(symbol, starttime, interval)[1], line = dict(color= '#fff176'), name= 'SMA20'),row=1, col=1)\n",
    "    df_C.add_trace(go.Scatter(x=df.index, y= get_vnstock_indi(symbol, starttime, interval)[2], line = dict(color= '#fbc02d'), name= 'SMA50'),row=1, col=1)\n",
    "    df_C.add_trace(go.Scatter(x=df.index, y= get_vnstock_indi(symbol, starttime, interval)[3], line = dict(color= '#f57f17'), name= 'SMA200'),row=1, col=1)\n",
    "    \n",
    "    # Adding Super Trend\n",
    "    df_C.add_trace(go.Scatter(x=df.index, y= get_vnstock_indi(symbol, starttime, interval)[4]['SUPERTs_7_3.0'], line = dict(color= '#f34f50'), name= 'Sell Super Trend'),row=1, col=1)\n",
    "    df_C.add_trace(go.Scatter(x=df.index, y= get_vnstock_indi(symbol, starttime, interval)[4]['SUPERTl_7_3.0'], line = dict(color= '#4caf50'), name= 'Buy Super Trend'),row=1, col=1)\n",
    "    \n",
    "    #MACD\n",
    "    df_C.add_trace(go.Scatter(x=df.index, y= get_vnstock_indi(symbol, starttime, interval)[5]['MACD_12_26_9'], line = dict(color= '#1f77b4'), name= 'MACD'),row=3, col=1)\n",
    "    df_C.add_trace(go.Bar(x = df.index, y= get_vnstock_indi(symbol, starttime, interval)[5]['MACDh_12_26_9'],showlegend=False,marker={'color':get_vnstock_indi(symbol, starttime, interval)[5]['Color']}),row = 3, col = 1)\n",
    "    df_C.add_trace(go.Scatter(x=df.index, y= get_vnstock_indi(symbol, starttime, interval)[5]['MACDs_12_26_9'], line = dict(color= '#d62728'), name= 'MACD Signal'),row=3, col=1)\n",
    "\n",
    "    # Update layout\n",
    "    for i in range(3,0,-1):\n",
    "        df_C.update_xaxes(row=i, col=1, rangeslider_visible=False)         # Remove Range Slider\n",
    "    df_C.update_layout(template='plotly_dark')\n",
    "    df_C.update_layout(height=1000, width=1500)\n",
    "    df_C.update_traces(name='Price', selector=dict(type='candlestick'))\n",
    "    return df_C.show()"
   ]
  },
  {
   "cell_type": "markdown",
   "metadata": {},
   "source": [
    "# Final Function"
   ]
  },
  {
   "cell_type": "code",
   "execution_count": null,
   "metadata": {},
   "outputs": [],
   "source": [
    "def crypto(symbol, interval, starttime):\n",
    "    get_crypto_data(symbol, interval, starttime)\n",
    "    get_crypto_indi(symbol, interval, starttime)\n",
    "    return plot_crypto_chart(symbol, interval, starttime)"
   ]
  },
  {
   "cell_type": "code",
   "execution_count": null,
   "metadata": {},
   "outputs": [],
   "source": [
    "def usstock(symbol, interval, starttime):\n",
    "    get_stock_data(symbol, interval, starttime)\n",
    "    get_stock_indi(symbol, interval, starttime)\n",
    "    return plot_stock_chart(symbol, interval, starttime)"
   ]
  },
  {
   "cell_type": "code",
   "execution_count": null,
   "metadata": {},
   "outputs": [],
   "source": [
    "def vnstock(symbol, starttime, interval):\n",
    "    get_vnstock_data(symbol, starttime, interval)\n",
    "    get_vnstock_indi(symbol, starttime, interval)\n",
    "    return plot_vnstock_chart(symbol, starttime, interval)"
   ]
  },
  {
   "cell_type": "markdown",
   "metadata": {},
   "source": [
    "# Run function"
   ]
  },
  {
   "cell_type": "code",
   "execution_count": null,
   "metadata": {},
   "outputs": [],
   "source": [
    "crypto('BTCUSDT','1d','Jan 1 2018')"
   ]
  },
  {
   "cell_type": "code",
   "execution_count": null,
   "metadata": {},
   "outputs": [],
   "source": [
    "crypto('BTCUSDT','1w','Jan 1 2018')"
   ]
  },
  {
   "cell_type": "code",
   "execution_count": null,
   "metadata": {},
   "outputs": [],
   "source": [
    "crypto('BTCUSDT','1M','Jan 1 2018')"
   ]
  },
  {
   "cell_type": "code",
   "execution_count": null,
   "metadata": {},
   "outputs": [],
   "source": [
    "usstock('TSLA','1d','2015-1-1')"
   ]
  },
  {
   "cell_type": "code",
   "execution_count": null,
   "metadata": {},
   "outputs": [],
   "source": [
    "usstock('TSLA','1wk','2015-1-1')"
   ]
  },
  {
   "cell_type": "code",
   "execution_count": null,
   "metadata": {},
   "outputs": [],
   "source": [
    "usstock('TSLA','1mo','2015-1-1')"
   ]
  },
  {
   "cell_type": "code",
   "execution_count": null,
   "metadata": {},
   "outputs": [],
   "source": [
    "vnstock('VCB', '2020-1-1','1D')"
   ]
  },
  {
   "cell_type": "code",
   "execution_count": null,
   "metadata": {},
   "outputs": [],
   "source": [
    "vnstock('VCB','2020-1-1','1W')"
   ]
  },
  {
   "cell_type": "code",
   "execution_count": null,
   "metadata": {},
   "outputs": [],
   "source": [
    "vnstock('VCB','2015-1-1','1M')"
   ]
  }
 ],
 "metadata": {
  "kernelspec": {
   "display_name": "Python 3.9.6 64-bit",
   "language": "python",
   "name": "python3"
  },
  "language_info": {
   "codemirror_mode": {
    "name": "ipython",
    "version": 3
   },
   "file_extension": ".py",
   "mimetype": "text/x-python",
   "name": "python",
   "nbconvert_exporter": "python",
   "pygments_lexer": "ipython3",
   "version": "3.9.6"
  },
  "orig_nbformat": 4,
  "vscode": {
   "interpreter": {
    "hash": "d364dc34e09ea6fa80f688b19ca56ef67ae2b69d7f0f943548bdb14c989450c4"
   }
  }
 },
 "nbformat": 4,
 "nbformat_minor": 2
}
